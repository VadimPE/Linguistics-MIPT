{
 "cells": [
  {
   "cell_type": "code",
   "execution_count": 13,
   "metadata": {},
   "outputs": [],
   "source": [
    "import nltk"
   ]
  },
  {
   "cell_type": "code",
   "execution_count": 14,
   "metadata": {
    "collapsed": true
   },
   "outputs": [],
   "source": [
    "from nltk.tokenize import sent_tokenize, word_tokenize\n",
    "from nltk.corpus import stopwords\n",
    "import pymongo"
   ]
  },
  {
   "cell_type": "code",
   "execution_count": 15,
   "metadata": {},
   "outputs": [],
   "source": [
    "# Надо выкинуть стоп-слова\n",
    "stopWords = set(stopwords.words('english'))\n",
    "wordsFiltered = []\n",
    "\n",
    "words_info = {}\n",
    "\n",
    "for i in range(2, 14):\n",
    "    with open(\"books/{}.txt\".format(i), \"r\", encoding = \"ISO-8859-1\") as f:\n",
    "        text = f.read().lower()\n",
    "        sentences = nltk.sent_tokenize(text)\n",
    "        for sent in sentences:\n",
    "            for (word, role) in nltk.pos_tag(nltk.word_tokenize(sent)):\n",
    "                if (len(word) > 1) and (word not in stopWords):\n",
    "                    if word in words_info:\n",
    "                        words_info[word][\"count\"] += 1\n",
    "                    else:\n",
    "                        words_info[word] = {\"count\": 1, \"role\": []}\n",
    "                    words_info[word][\"role\"].append((role, sent))"
   ]
  },
  {
   "cell_type": "code",
   "execution_count": 16,
   "metadata": {
    "collapsed": true
   },
   "outputs": [],
   "source": [
    "client = pymongo.MongoClient('localhost', 27017)"
   ]
  },
  {
   "cell_type": "code",
   "execution_count": 24,
   "metadata": {},
   "outputs": [],
   "source": [
    "db = client[\"lingvabd4\"]\n",
    "posts = db.posts\n",
    "for i in words_info:\n",
    "    if not i.isdigit():\n",
    "        # Так как у нас могут быть такие строки \"asdasd.\" \"\\dfsf\"\n",
    "        if i[:-1].isalpha() and not i[-1].isalpha():\n",
    "            new_word = i[:-1]\n",
    "        elif i[1:].isalpha() and not i[0].isalpha():\n",
    "            new_word = i[1:]\n",
    "        else:\n",
    "            new_word = i\n",
    "        new_post = {\"name\": new_word, \"info\": words_info[i]}\n",
    "        posts.insert_one(new_post)"
   ]
  },
  {
   "cell_type": "code",
   "execution_count": null,
   "metadata": {
    "collapsed": true
   },
   "outputs": [],
   "source": []
  }
 ],
 "metadata": {
  "kernelspec": {
   "display_name": "Python 3",
   "language": "python",
   "name": "python3"
  },
  "language_info": {
   "codemirror_mode": {
    "name": "ipython",
    "version": 3
   },
   "file_extension": ".py",
   "mimetype": "text/x-python",
   "name": "python",
   "nbconvert_exporter": "python",
   "pygments_lexer": "ipython3",
   "version": "3.6.3"
  }
 },
 "nbformat": 4,
 "nbformat_minor": 2
}
